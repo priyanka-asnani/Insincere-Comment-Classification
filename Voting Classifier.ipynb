{
  "nbformat": 4,
  "nbformat_minor": 0,
  "metadata": {
    "colab": {
      "name": "Untitled2.ipynb",
      "provenance": [],
      "machine_shape": "hm"
    },
    "kernelspec": {
      "name": "python3",
      "display_name": "Python 3"
    },
    "language_info": {
      "name": "python"
    },
    "accelerator": "GPU"
  },
  "cells": [
    {
      "cell_type": "code",
      "execution_count": 1,
      "metadata": {
        "id": "ouEvpyqJqahJ"
      },
      "outputs": [],
      "source": [
        "import pandas as pd\n",
        "import multiprocessing as mp\n",
        "import numpy as np\n",
        "import numpy as np\n",
        "import matplotlib.pyplot as plt\n",
        "import seaborn as sns\n",
        "from sklearn import metrics\n",
        "from sklearn.metrics import confusion_matrix, classification_report\n",
        "from sklearn.metrics import accuracy_score, precision_score, recall_score, f1_score\n",
        "from sklearn.tree import DecisionTreeClassifier\n",
        "from sklearn.naive_bayes import MultinomialNB\n",
        "from sklearn.svm import SVC\n",
        "from sklearn.linear_model import LogisticRegression\n",
        "from sklearn.ensemble import RandomForestClassifier, VotingClassifier\n",
        "from sklearn.feature_extraction.text import TfidfVectorizer"
      ]
    },
    {
      "cell_type": "code",
      "source": [
        "## read in the cleaned data\n",
        "train_df = pd.read_csv('train_data.csv')\n",
        "\n",
        "print(train_df.shape)"
      ],
      "metadata": {
        "colab": {
          "base_uri": "https://localhost:8080/"
        },
        "id": "gtTynWd7q0vZ",
        "outputId": "a1721a9e-22eb-4553-99e9-cd83fd1aec26"
      },
      "execution_count": 2,
      "outputs": [
        {
          "output_type": "stream",
          "name": "stdout",
          "text": [
            "(80800, 3)\n"
          ]
        }
      ]
    },
    {
      "cell_type": "code",
      "source": [
        "## read in the cleaned data\n",
        "valid_df = pd.read_csv('valid_data.csv')\n",
        "\n",
        "print(valid_df.shape)"
      ],
      "metadata": {
        "colab": {
          "base_uri": "https://localhost:8080/"
        },
        "id": "IkCoppA7q01G",
        "outputId": "faf06dfa-0604-46df-f033-6068b9350064"
      },
      "execution_count": 3,
      "outputs": [
        {
          "output_type": "stream",
          "name": "stdout",
          "text": [
            "(673316, 3)\n"
          ]
        }
      ]
    },
    {
      "cell_type": "code",
      "source": [
        "vectorizer = TfidfVectorizer(min_df=10)\n",
        "xtrain = vectorizer.fit_transform(train_df['question_text'])\n",
        "xvalid = vectorizer.transform(valid_df['question_text'])"
      ],
      "metadata": {
        "id": "bipwv7qtq032"
      },
      "execution_count": 4,
      "outputs": []
    },
    {
      "cell_type": "code",
      "source": [
        "ytrain = train_df['label']"
      ],
      "metadata": {
        "id": "uDUaQ1pCq06s"
      },
      "execution_count": 5,
      "outputs": []
    },
    {
      "cell_type": "code",
      "source": [
        "xvalid"
      ],
      "metadata": {
        "colab": {
          "base_uri": "https://localhost:8080/"
        },
        "id": "fORCOG3Jq09g",
        "outputId": "89c287ad-9832-46b8-cb87-3caeb41a16b9"
      },
      "execution_count": 6,
      "outputs": [
        {
          "output_type": "execute_result",
          "data": {
            "text/plain": [
              "<673316x6638 sparse matrix of type '<class 'numpy.float64'>'\n",
              "\twith 3510212 stored elements in Compressed Sparse Row format>"
            ]
          },
          "metadata": {},
          "execution_count": 6
        }
      ]
    },
    {
      "cell_type": "code",
      "source": [
        "yvalid = valid_df['label']"
      ],
      "metadata": {
        "id": "iDIPyQtmq1AG"
      },
      "execution_count": 7,
      "outputs": []
    },
    {
      "cell_type": "code",
      "source": [
        "## Defining all classifiers for voting classifier\n",
        "log_clf = LogisticRegression(C=3, max_iter=1000, solver='liblinear')\n",
        "svc_clf = SVC(C=1, gamma=1, kernel='rbf', probability=True)\n",
        "dt_clf = DecisionTreeClassifier(max_depth=500)\n",
        "rf_clf = RandomForestClassifier(bootstrap=False, max_depth=500, n_estimators=2000)\n",
        "nb_clf = MultinomialNB()"
      ],
      "metadata": {
        "id": "ukG0H-hBq1Cx"
      },
      "execution_count": 8,
      "outputs": []
    },
    {
      "cell_type": "code",
      "source": [
        "estimators=[('lr', log_clf), ('svm', svc_clf), ('dt', dt_clf), ('rf', rf_clf), ('nb',  nb_clf)]\n",
        "voting_clf = VotingClassifier(estimators=estimators, voting='soft')"
      ],
      "metadata": {
        "id": "KLV2TwGprE5J"
      },
      "execution_count": 11,
      "outputs": []
    },
    {
      "cell_type": "code",
      "source": [
        "voting_clf.fit(xtrain, ytrain)"
      ],
      "metadata": {
        "colab": {
          "base_uri": "https://localhost:8080/"
        },
        "id": "3q8ljFNdrE8M",
        "outputId": "843ce252-9a8a-4823-8425-699dc9e867f9"
      },
      "execution_count": 12,
      "outputs": [
        {
          "output_type": "execute_result",
          "data": {
            "text/plain": [
              "VotingClassifier(estimators=[('lr',\n",
              "                              LogisticRegression(C=3, max_iter=1000,\n",
              "                                                 solver='liblinear')),\n",
              "                             ('svm', SVC(C=1, gamma=1, probability=True)),\n",
              "                             ('dt', DecisionTreeClassifier(max_depth=500)),\n",
              "                             ('rf',\n",
              "                              RandomForestClassifier(bootstrap=False,\n",
              "                                                     max_depth=500,\n",
              "                                                     n_estimators=2000)),\n",
              "                             ('nb', MultinomialNB())],\n",
              "                 voting='soft')"
            ]
          },
          "metadata": {},
          "execution_count": 12
        }
      ]
    },
    {
      "cell_type": "code",
      "source": [
        "y_pred = voting_clf.predict(xvalid)"
      ],
      "metadata": {
        "id": "Lh7HEVsJrE-8"
      },
      "execution_count": 13,
      "outputs": []
    },
    {
      "cell_type": "code",
      "source": [
        "## Print out the confusion matrix\n",
        "confmtrx = confusion_matrix(yvalid, y_pred)\n",
        "confmatrix_df = pd.DataFrame(confmtrx, index=['Sincere(0)','Insincere(1)'],\n",
        "columns=['Predicted_Sincere(0)', 'Predicted_Insincere(1)'])\n",
        "print(confmatrix_df)"
      ],
      "metadata": {
        "colab": {
          "base_uri": "https://localhost:8080/"
        },
        "id": "MMgoky0erFBy",
        "outputId": "7eed608c-2567-4815-d7f0-de5cb3613664"
      },
      "execution_count": 14,
      "outputs": [
        {
          "output_type": "stream",
          "name": "stdout",
          "text": [
            "              Predicted_Sincere(0)  Predicted_Insincere(1)\n",
            "Sincere(0)                  542128                   90789\n",
            "Insincere(1)                  4546                   35853\n"
          ]
        }
      ]
    },
    {
      "cell_type": "code",
      "source": [
        "report = classification_report(yvalid, y_pred)\n",
        "print(report)"
      ],
      "metadata": {
        "colab": {
          "base_uri": "https://localhost:8080/"
        },
        "id": "77HBkZV1rN9q",
        "outputId": "547a3f4d-417a-4c19-939d-0b0ede7f62c5"
      },
      "execution_count": 15,
      "outputs": [
        {
          "output_type": "stream",
          "name": "stdout",
          "text": [
            "              precision    recall  f1-score   support\n",
            "\n",
            "           0       0.99      0.86      0.92    632917\n",
            "           1       0.28      0.89      0.43     40399\n",
            "\n",
            "    accuracy                           0.86    673316\n",
            "   macro avg       0.64      0.87      0.67    673316\n",
            "weighted avg       0.95      0.86      0.89    673316\n",
            "\n"
          ]
        }
      ]
    }
  ]
}